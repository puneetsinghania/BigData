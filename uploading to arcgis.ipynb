{
 "cells": [
  {
   "cell_type": "code",
   "execution_count": 1,
   "metadata": {},
   "outputs": [],
   "source": [
    "from arcgis.gis import GIS\n",
    "from getpass import getpass #allows you to login to your account. this is a good way to hide your pwd and stuff. \n",
    "import pandas as pd"
   ]
  },
  {
   "cell_type": "markdown",
   "metadata": {},
   "source": [
    "### going to put in user name and then url of org account "
   ]
  },
  {
   "cell_type": "code",
   "execution_count": 3,
   "metadata": {},
   "outputs": [
    {
     "name": "stdout",
     "output_type": "stream",
     "text": [
      "········\n"
     ]
    }
   ],
   "source": [
    "password = getpass() #the pwd will be hidden. enter my credentials\n",
    "gis = GIS('https://learngis2.maps.arcgis.com','Sanjana_Senthilkumar_LearnArcGIS0',password)"
   ]
  },
  {
   "cell_type": "code",
   "execution_count": 4,
   "metadata": {},
   "outputs": [],
   "source": [
    "csv = r\"C:\\Users\\sanja\\Desktop\\Quarter Material\\Fall Quarter\\Big Data\\datasets\\actual_2018_2019.csv\" #path of the csv to upload \n",
    "#fire = pd.read_csv(csv)\n",
    "#fire.head(20)"
   ]
  },
  {
   "cell_type": "code",
   "execution_count": 41,
   "metadata": {},
   "outputs": [
    {
     "data": {
      "text/plain": [
       "(416119, 7)"
      ]
     },
     "execution_count": 41,
     "metadata": {},
     "output_type": "execute_result"
    }
   ],
   "source": [
    "fire.shape"
   ]
  },
  {
   "cell_type": "markdown",
   "metadata": {},
   "source": [
    "### upload the data - add csv as item"
   ]
  },
  {
   "cell_type": "code",
   "execution_count": 42,
   "metadata": {
    "scrolled": true
   },
   "outputs": [
    {
     "ename": "Exception",
     "evalue": "Item already exists. Set the overwrite flag to true if you want to overwrite.\n(Error Code: 409)",
     "output_type": "error",
     "traceback": [
      "\u001b[1;31m---------------------------------------------------------------------------\u001b[0m",
      "\u001b[1;31mException\u001b[0m                                 Traceback (most recent call last)",
      "\u001b[1;32m<ipython-input-42-be165f9bfb3d>\u001b[0m in \u001b[0;36m<module>\u001b[1;34m\u001b[0m\n\u001b[0;32m      1\u001b[0m \u001b[0mitem_csv\u001b[0m \u001b[1;33m=\u001b[0m \u001b[1;33m{\u001b[0m\u001b[1;34m'title'\u001b[0m\u001b[1;33m:\u001b[0m \u001b[1;34m'train2_2009'\u001b[0m\u001b[1;33m}\u001b[0m\u001b[1;33m\u001b[0m\u001b[1;33m\u001b[0m\u001b[0m\n\u001b[1;32m----> 2\u001b[1;33m \u001b[0mcsv_item\u001b[0m \u001b[1;33m=\u001b[0m \u001b[0mgis\u001b[0m\u001b[1;33m.\u001b[0m\u001b[0mcontent\u001b[0m\u001b[1;33m.\u001b[0m\u001b[0madd\u001b[0m\u001b[1;33m(\u001b[0m\u001b[0mitem_properties\u001b[0m \u001b[1;33m=\u001b[0m \u001b[0mitem_csv\u001b[0m\u001b[1;33m,\u001b[0m \u001b[0mdata\u001b[0m \u001b[1;33m=\u001b[0m \u001b[0mcsv\u001b[0m\u001b[1;33m)\u001b[0m\u001b[1;33m\u001b[0m\u001b[1;33m\u001b[0m\u001b[0m\n\u001b[0m\u001b[0;32m      3\u001b[0m \u001b[0mcsv_item\u001b[0m\u001b[1;33m\u001b[0m\u001b[1;33m\u001b[0m\u001b[0m\n",
      "\u001b[1;32m~\\Anaconda3\\lib\\site-packages\\arcgis\\gis\\__init__.py\u001b[0m in \u001b[0;36madd\u001b[1;34m(self, item_properties, data, thumbnail, metadata, owner, folder, item_id, **kwargs)\u001b[0m\n\u001b[0;32m   5478\u001b[0m             \u001b[1;31m# Create an empty Item\u001b[0m\u001b[1;33m\u001b[0m\u001b[1;33m\u001b[0m\u001b[1;33m\u001b[0m\u001b[0m\n\u001b[0;32m   5479\u001b[0m             itemid = self._portal.add_item(\n\u001b[1;32m-> 5480\u001b[1;33m                 \u001b[0mparams\u001b[0m\u001b[1;33m,\u001b[0m \u001b[1;32mNone\u001b[0m\u001b[1;33m,\u001b[0m \u001b[0mthumbnail\u001b[0m\u001b[1;33m,\u001b[0m \u001b[0mmetadata\u001b[0m\u001b[1;33m,\u001b[0m \u001b[0mowner_name\u001b[0m\u001b[1;33m,\u001b[0m \u001b[0mfolder\u001b[0m\u001b[1;33m\u001b[0m\u001b[1;33m\u001b[0m\u001b[0m\n\u001b[0m\u001b[0;32m   5481\u001b[0m             )\n\u001b[0;32m   5482\u001b[0m             \u001b[1;31m# check the status and commit the final result\u001b[0m\u001b[1;33m\u001b[0m\u001b[1;33m\u001b[0m\u001b[1;33m\u001b[0m\u001b[0m\n",
      "\u001b[1;32m~\\Anaconda3\\lib\\site-packages\\arcgis\\gis\\_impl\\_portalpy.py\u001b[0m in \u001b[0;36madd_item\u001b[1;34m(self, item_properties, data, thumbnail, metadata, owner, folder)\u001b[0m\n\u001b[0;32m    434\u001b[0m             \u001b[0mresp\u001b[0m \u001b[1;33m=\u001b[0m \u001b[0mself\u001b[0m\u001b[1;33m.\u001b[0m\u001b[0mcon\u001b[0m\u001b[1;33m.\u001b[0m\u001b[0mpost_multipart\u001b[0m\u001b[1;33m(\u001b[0m\u001b[0mpath\u001b[0m\u001b[1;33m,\u001b[0m \u001b[0mpostdata\u001b[0m\u001b[1;33m,\u001b[0m \u001b[0mfiles\u001b[0m\u001b[1;33m)\u001b[0m\u001b[1;33m\u001b[0m\u001b[1;33m\u001b[0m\u001b[0m\n\u001b[0;32m    435\u001b[0m         \u001b[1;32melse\u001b[0m\u001b[1;33m:\u001b[0m\u001b[1;33m\u001b[0m\u001b[1;33m\u001b[0m\u001b[0m\n\u001b[1;32m--> 436\u001b[1;33m             \u001b[0mresp\u001b[0m \u001b[1;33m=\u001b[0m \u001b[0mself\u001b[0m\u001b[1;33m.\u001b[0m\u001b[0mcon\u001b[0m\u001b[1;33m.\u001b[0m\u001b[0mpost\u001b[0m\u001b[1;33m(\u001b[0m\u001b[0mpath\u001b[0m\u001b[1;33m,\u001b[0m \u001b[0mpostdata\u001b[0m\u001b[1;33m,\u001b[0m \u001b[0mfiles\u001b[0m\u001b[1;33m)\u001b[0m\u001b[1;33m\u001b[0m\u001b[1;33m\u001b[0m\u001b[0m\n\u001b[0m\u001b[0;32m    437\u001b[0m         \u001b[1;32mif\u001b[0m \u001b[0mresp\u001b[0m \u001b[1;32mand\u001b[0m \u001b[0mresp\u001b[0m\u001b[1;33m.\u001b[0m\u001b[0mget\u001b[0m\u001b[1;33m(\u001b[0m\u001b[1;34m\"success\"\u001b[0m\u001b[1;33m)\u001b[0m\u001b[1;33m:\u001b[0m\u001b[1;33m\u001b[0m\u001b[1;33m\u001b[0m\u001b[0m\n\u001b[0;32m    438\u001b[0m             \u001b[1;32mreturn\u001b[0m \u001b[0mresp\u001b[0m\u001b[1;33m[\u001b[0m\u001b[1;34m\"id\"\u001b[0m\u001b[1;33m]\u001b[0m\u001b[1;33m\u001b[0m\u001b[1;33m\u001b[0m\u001b[0m\n",
      "\u001b[1;32m~\\Anaconda3\\lib\\site-packages\\arcgis\\gis\\_impl\\_con\\_connection.py\u001b[0m in \u001b[0;36mpost\u001b[1;34m(self, path, params, files, **kwargs)\u001b[0m\n\u001b[0;32m   1410\u001b[0m             \u001b[0mfile_name\u001b[0m\u001b[1;33m=\u001b[0m\u001b[0mfile_name\u001b[0m\u001b[1;33m,\u001b[0m\u001b[1;33m\u001b[0m\u001b[1;33m\u001b[0m\u001b[0m\n\u001b[0;32m   1411\u001b[0m             \u001b[0mtry_json\u001b[0m\u001b[1;33m=\u001b[0m\u001b[0mtry_json\u001b[0m\u001b[1;33m,\u001b[0m\u001b[1;33m\u001b[0m\u001b[1;33m\u001b[0m\u001b[0m\n\u001b[1;32m-> 1412\u001b[1;33m             \u001b[0mforce_bytes\u001b[0m\u001b[1;33m=\u001b[0m\u001b[0mkwargs\u001b[0m\u001b[1;33m.\u001b[0m\u001b[0mpop\u001b[0m\u001b[1;33m(\u001b[0m\u001b[1;34m\"force_bytes\"\u001b[0m\u001b[1;33m,\u001b[0m \u001b[1;32mFalse\u001b[0m\u001b[1;33m)\u001b[0m\u001b[1;33m,\u001b[0m\u001b[1;33m\u001b[0m\u001b[1;33m\u001b[0m\u001b[0m\n\u001b[0m\u001b[0;32m   1413\u001b[0m         )\n\u001b[0;32m   1414\u001b[0m \u001b[1;33m\u001b[0m\u001b[0m\n",
      "\u001b[1;32m~\\Anaconda3\\lib\\site-packages\\arcgis\\gis\\_impl\\_con\\_connection.py\u001b[0m in \u001b[0;36m_handle_response\u001b[1;34m(self, resp, file_name, out_path, try_json, force_bytes, ignore_error_key)\u001b[0m\n\u001b[0;32m    898\u001b[0m                     \u001b[1;32mreturn\u001b[0m \u001b[0mdata\u001b[0m\u001b[1;33m\u001b[0m\u001b[1;33m\u001b[0m\u001b[0m\n\u001b[0;32m    899\u001b[0m                 \u001b[0merrorcode\u001b[0m \u001b[1;33m=\u001b[0m \u001b[0mdata\u001b[0m\u001b[1;33m[\u001b[0m\u001b[1;34m\"error\"\u001b[0m\u001b[1;33m]\u001b[0m\u001b[1;33m[\u001b[0m\u001b[1;34m\"code\"\u001b[0m\u001b[1;33m]\u001b[0m \u001b[1;32mif\u001b[0m \u001b[1;34m\"code\"\u001b[0m \u001b[1;32min\u001b[0m \u001b[0mdata\u001b[0m\u001b[1;33m[\u001b[0m\u001b[1;34m\"error\"\u001b[0m\u001b[1;33m]\u001b[0m \u001b[1;32melse\u001b[0m \u001b[1;36m0\u001b[0m\u001b[1;33m\u001b[0m\u001b[1;33m\u001b[0m\u001b[0m\n\u001b[1;32m--> 900\u001b[1;33m                 \u001b[0mself\u001b[0m\u001b[1;33m.\u001b[0m\u001b[0m_handle_json_error\u001b[0m\u001b[1;33m(\u001b[0m\u001b[0mdata\u001b[0m\u001b[1;33m[\u001b[0m\u001b[1;34m\"error\"\u001b[0m\u001b[1;33m]\u001b[0m\u001b[1;33m,\u001b[0m \u001b[0merrorcode\u001b[0m\u001b[1;33m)\u001b[0m\u001b[1;33m\u001b[0m\u001b[1;33m\u001b[0m\u001b[0m\n\u001b[0m\u001b[0;32m    901\u001b[0m             \u001b[1;32mreturn\u001b[0m \u001b[0mdata\u001b[0m\u001b[1;33m\u001b[0m\u001b[1;33m\u001b[0m\u001b[0m\n\u001b[0;32m    902\u001b[0m         \u001b[1;32melse\u001b[0m\u001b[1;33m:\u001b[0m\u001b[1;33m\u001b[0m\u001b[1;33m\u001b[0m\u001b[0m\n",
      "\u001b[1;32m~\\Anaconda3\\lib\\site-packages\\arcgis\\gis\\_impl\\_con\\_connection.py\u001b[0m in \u001b[0;36m_handle_json_error\u001b[1;34m(self, error, errorcode)\u001b[0m\n\u001b[0;32m    921\u001b[0m \u001b[1;33m\u001b[0m\u001b[0m\n\u001b[0;32m    922\u001b[0m         \u001b[0merrormessage\u001b[0m \u001b[1;33m=\u001b[0m \u001b[0merrormessage\u001b[0m \u001b[1;33m+\u001b[0m \u001b[1;34m\"\\n(Error Code: \"\u001b[0m \u001b[1;33m+\u001b[0m \u001b[0mstr\u001b[0m\u001b[1;33m(\u001b[0m\u001b[0merrorcode\u001b[0m\u001b[1;33m)\u001b[0m \u001b[1;33m+\u001b[0m \u001b[1;34m\")\"\u001b[0m\u001b[1;33m\u001b[0m\u001b[1;33m\u001b[0m\u001b[0m\n\u001b[1;32m--> 923\u001b[1;33m         \u001b[1;32mraise\u001b[0m \u001b[0mException\u001b[0m\u001b[1;33m(\u001b[0m\u001b[0merrormessage\u001b[0m\u001b[1;33m)\u001b[0m\u001b[1;33m\u001b[0m\u001b[1;33m\u001b[0m\u001b[0m\n\u001b[0m\u001b[0;32m    924\u001b[0m \u001b[1;33m\u001b[0m\u001b[0m\n\u001b[0;32m    925\u001b[0m     def post_multipart(\n",
      "\u001b[1;31mException\u001b[0m: Item already exists. Set the overwrite flag to true if you want to overwrite.\n(Error Code: 409)"
     ]
    }
   ],
   "source": [
    "item_csv = {'title': 'actual_18_19'} #name of th csv\n",
    "csv_item = gis.content.add(item_properties = item_csv, data = csv) # adds the cv as an item in the contents page of arcgis\n",
    "csv_item"
   ]
  },
  {
   "cell_type": "markdown",
   "metadata": {},
   "source": [
    "### publishing feature layer"
   ]
  },
  {
   "cell_type": "code",
   "execution_count": 38,
   "metadata": {},
   "outputs": [
    {
     "ename": "NameError",
     "evalue": "name 'csv_item' is not defined",
     "output_type": "error",
     "traceback": [
      "\u001b[1;31m---------------------------------------------------------------------------\u001b[0m",
      "\u001b[1;31mNameError\u001b[0m                                 Traceback (most recent call last)",
      "\u001b[1;32m<ipython-input-38-376873b5a94a>\u001b[0m in \u001b[0;36m<module>\u001b[1;34m\u001b[0m\n\u001b[1;32m----> 1\u001b[1;33m \u001b[0mfire_item\u001b[0m \u001b[1;33m=\u001b[0m \u001b[0mcsv_item\u001b[0m\u001b[1;33m.\u001b[0m\u001b[0mpublish\u001b[0m\u001b[1;33m(\u001b[0m\u001b[1;33m)\u001b[0m\u001b[1;33m\u001b[0m\u001b[1;33m\u001b[0m\u001b[0m\n\u001b[0m\u001b[0;32m      2\u001b[0m \u001b[0mfire_item\u001b[0m\u001b[1;33m\u001b[0m\u001b[1;33m\u001b[0m\u001b[0m\n",
      "\u001b[1;31mNameError\u001b[0m: name 'csv_item' is not defined"
     ]
    }
   ],
   "source": [
    "snow_item = csv_item.publish() # publush the csv as a feature layer\n"
   ]
  },
  {
   "cell_type": "markdown",
   "metadata": {},
   "source": [
    "### searching to check"
   ]
  },
  {
   "cell_type": "code",
   "execution_count": 3,
   "metadata": {},
   "outputs": [
    {
     "data": {
      "text/html": [
       "<div class=\"item_container\" style=\"height: auto; overflow: hidden; border: 1px solid #cfcfcf; border-radius: 2px; background: #f6fafa; line-height: 1.21429em; padding: 10px;\">\n",
       "                    <div class=\"item_left\" style=\"width: 210px; float: left;\">\n",
       "                       <a href='https://SaJoghfetLym87eW.maps.arcgis.com/home/item.html?id=c7883a7dc9ca4cd58949aac83a96da11' target='_blank'>\n",
       "                        <img src='data:image/png;base64,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' width='200' height='133' class=\"itemThumbnail\">\n",
       "                       </a>\n",
       "                    </div>\n",
       "\n",
       "                    <div class=\"item_right\"     style=\"float: none; width: auto; overflow: hidden;\">\n",
       "                        <a href='https://SaJoghfetLym87eW.maps.arcgis.com/home/item.html?id=c7883a7dc9ca4cd58949aac83a96da11' target='_blank'><b>train2_2009</b>\n",
       "                        </a>\n",
       "                        <br/><img src='https://SaJoghfetLym87eW.maps.arcgis.com/home/js/jsapi/esri/css/images/item_type_icons/featureshosted16.png' style=\"vertical-align:middle;\">Feature Layer Collection by Sanjana089\n",
       "                        <br/>Last Modified: December 01, 2022\n",
       "                        <br/>0 comments, 24 views\n",
       "                    </div>\n",
       "                </div>\n",
       "                "
      ],
      "text/plain": [
       "<Item title:\"train2_2009\" type:Feature Layer Collection owner:Sanjana089>"
      ]
     },
     "execution_count": 3,
     "metadata": {},
     "output_type": "execute_result"
    }
   ],
   "source": [
    "snow_layer = gis.content.search(query = \"actual\", item_type = \"feature layer\")[0] # check if feature later exists\n"
   ]
  },
  {
   "cell_type": "code",
   "execution_count": 4,
   "metadata": {},
   "outputs": [],
   "source": [
    "snow_layer = snow_layer.layers[0]"
   ]
  },
  {
   "cell_type": "code",
   "execution_count": 5,
   "metadata": {},
   "outputs": [],
   "source": [
    "#map = gis.map()\n",
    "#from arcgis.mapping import WebMap\n",
    "\n",
    "#from arcgis.widgets import MapView\n",
    "\n",
    "#map1 = gis.map('USA', 6)"
   ]
  },
  {
   "cell_type": "code",
   "execution_count": 7,
   "metadata": {},
   "outputs": [],
   "source": [
    "#map1.add_layer(fire_layer)"
   ]
  },
  {
   "cell_type": "markdown",
   "metadata": {},
   "source": [
    "### adding prediction csv"
   ]
  },
  {
   "cell_type": "code",
   "execution_count": 13,
   "metadata": {},
   "outputs": [
    {
     "data": {
      "text/html": [
       "<div>\n",
       "<style scoped>\n",
       "    .dataframe tbody tr th:only-of-type {\n",
       "        vertical-align: middle;\n",
       "    }\n",
       "\n",
       "    .dataframe tbody tr th {\n",
       "        vertical-align: top;\n",
       "    }\n",
       "\n",
       "    .dataframe thead th {\n",
       "        text-align: right;\n",
       "    }\n",
       "</style>\n",
       "<table border=\"1\" class=\"dataframe\">\n",
       "  <thead>\n",
       "    <tr style=\"text-align: right;\">\n",
       "      <th></th>\n",
       "      <th>Date</th>\n",
       "      <th>latitude</th>\n",
       "      <th>longitude</th>\n",
       "      <th>yearmonth</th>\n",
       "      <th>year</th>\n",
       "      <th>month</th>\n",
       "      <th>prediction</th>\n",
       "      <th>fire_size</th>\n",
       "      <th>fire_size_class</th>\n",
       "    </tr>\n",
       "  </thead>\n",
       "  <tbody>\n",
       "    <tr>\n",
       "      <th>0</th>\n",
       "      <td>2010/1</td>\n",
       "      <td>33.694400</td>\n",
       "      <td>-113.299700</td>\n",
       "      <td>201001</td>\n",
       "      <td>2010</td>\n",
       "      <td>1</td>\n",
       "      <td>A</td>\n",
       "      <td>0.1</td>\n",
       "      <td>A</td>\n",
       "    </tr>\n",
       "    <tr>\n",
       "      <th>1</th>\n",
       "      <td>2010/1</td>\n",
       "      <td>33.302670</td>\n",
       "      <td>-110.450440</td>\n",
       "      <td>201001</td>\n",
       "      <td>2010</td>\n",
       "      <td>1</td>\n",
       "      <td>A</td>\n",
       "      <td>0.1</td>\n",
       "      <td>A</td>\n",
       "    </tr>\n",
       "    <tr>\n",
       "      <th>2</th>\n",
       "      <td>2010/1</td>\n",
       "      <td>33.362720</td>\n",
       "      <td>-110.462190</td>\n",
       "      <td>201001</td>\n",
       "      <td>2010</td>\n",
       "      <td>1</td>\n",
       "      <td>A</td>\n",
       "      <td>0.1</td>\n",
       "      <td>A</td>\n",
       "    </tr>\n",
       "    <tr>\n",
       "      <th>3</th>\n",
       "      <td>2010/1</td>\n",
       "      <td>33.366030</td>\n",
       "      <td>-110.431000</td>\n",
       "      <td>201001</td>\n",
       "      <td>2010</td>\n",
       "      <td>1</td>\n",
       "      <td>A</td>\n",
       "      <td>1.0</td>\n",
       "      <td>B</td>\n",
       "    </tr>\n",
       "    <tr>\n",
       "      <th>4</th>\n",
       "      <td>2010/1</td>\n",
       "      <td>33.370580</td>\n",
       "      <td>-110.435042</td>\n",
       "      <td>201001</td>\n",
       "      <td>2010</td>\n",
       "      <td>1</td>\n",
       "      <td>A</td>\n",
       "      <td>0.1</td>\n",
       "      <td>A</td>\n",
       "    </tr>\n",
       "    <tr>\n",
       "      <th>5</th>\n",
       "      <td>2010/1</td>\n",
       "      <td>33.550833</td>\n",
       "      <td>-111.241944</td>\n",
       "      <td>201001</td>\n",
       "      <td>2010</td>\n",
       "      <td>1</td>\n",
       "      <td>A</td>\n",
       "      <td>0.1</td>\n",
       "      <td>A</td>\n",
       "    </tr>\n",
       "    <tr>\n",
       "      <th>6</th>\n",
       "      <td>2010/1</td>\n",
       "      <td>33.618400</td>\n",
       "      <td>-112.939100</td>\n",
       "      <td>201001</td>\n",
       "      <td>2010</td>\n",
       "      <td>1</td>\n",
       "      <td>A</td>\n",
       "      <td>0.1</td>\n",
       "      <td>A</td>\n",
       "    </tr>\n",
       "    <tr>\n",
       "      <th>7</th>\n",
       "      <td>2010/1</td>\n",
       "      <td>31.985000</td>\n",
       "      <td>-111.708100</td>\n",
       "      <td>201001</td>\n",
       "      <td>2010</td>\n",
       "      <td>1</td>\n",
       "      <td>A</td>\n",
       "      <td>1.0</td>\n",
       "      <td>B</td>\n",
       "    </tr>\n",
       "    <tr>\n",
       "      <th>8</th>\n",
       "      <td>2010/1</td>\n",
       "      <td>36.975081</td>\n",
       "      <td>-113.630453</td>\n",
       "      <td>201001</td>\n",
       "      <td>2010</td>\n",
       "      <td>1</td>\n",
       "      <td>A</td>\n",
       "      <td>0.1</td>\n",
       "      <td>A</td>\n",
       "    </tr>\n",
       "    <tr>\n",
       "      <th>9</th>\n",
       "      <td>2010/1</td>\n",
       "      <td>36.993789</td>\n",
       "      <td>-113.566256</td>\n",
       "      <td>201001</td>\n",
       "      <td>2010</td>\n",
       "      <td>1</td>\n",
       "      <td>A</td>\n",
       "      <td>0.1</td>\n",
       "      <td>A</td>\n",
       "    </tr>\n",
       "    <tr>\n",
       "      <th>10</th>\n",
       "      <td>2010/1</td>\n",
       "      <td>33.163100</td>\n",
       "      <td>-111.800400</td>\n",
       "      <td>201001</td>\n",
       "      <td>2010</td>\n",
       "      <td>1</td>\n",
       "      <td>A</td>\n",
       "      <td>0.1</td>\n",
       "      <td>A</td>\n",
       "    </tr>\n",
       "    <tr>\n",
       "      <th>11</th>\n",
       "      <td>2010/1</td>\n",
       "      <td>32.330833</td>\n",
       "      <td>-110.702222</td>\n",
       "      <td>201001</td>\n",
       "      <td>2010</td>\n",
       "      <td>1</td>\n",
       "      <td>A</td>\n",
       "      <td>73.0</td>\n",
       "      <td>C</td>\n",
       "    </tr>\n",
       "    <tr>\n",
       "      <th>12</th>\n",
       "      <td>2010/1</td>\n",
       "      <td>31.519444</td>\n",
       "      <td>-111.127500</td>\n",
       "      <td>201001</td>\n",
       "      <td>2010</td>\n",
       "      <td>1</td>\n",
       "      <td>A</td>\n",
       "      <td>38.3</td>\n",
       "      <td>C</td>\n",
       "    </tr>\n",
       "    <tr>\n",
       "      <th>13</th>\n",
       "      <td>2010/1</td>\n",
       "      <td>34.089700</td>\n",
       "      <td>-114.342200</td>\n",
       "      <td>201001</td>\n",
       "      <td>2010</td>\n",
       "      <td>1</td>\n",
       "      <td>A</td>\n",
       "      <td>0.1</td>\n",
       "      <td>A</td>\n",
       "    </tr>\n",
       "    <tr>\n",
       "      <th>14</th>\n",
       "      <td>2010/1</td>\n",
       "      <td>33.926400</td>\n",
       "      <td>-114.435300</td>\n",
       "      <td>201001</td>\n",
       "      <td>2010</td>\n",
       "      <td>1</td>\n",
       "      <td>A</td>\n",
       "      <td>0.2</td>\n",
       "      <td>A</td>\n",
       "    </tr>\n",
       "    <tr>\n",
       "      <th>15</th>\n",
       "      <td>2010/1</td>\n",
       "      <td>34.588500</td>\n",
       "      <td>-114.365750</td>\n",
       "      <td>201001</td>\n",
       "      <td>2010</td>\n",
       "      <td>1</td>\n",
       "      <td>A</td>\n",
       "      <td>0.1</td>\n",
       "      <td>A</td>\n",
       "    </tr>\n",
       "    <tr>\n",
       "      <th>16</th>\n",
       "      <td>2010/1</td>\n",
       "      <td>32.819200</td>\n",
       "      <td>-114.488100</td>\n",
       "      <td>201001</td>\n",
       "      <td>2010</td>\n",
       "      <td>1</td>\n",
       "      <td>A</td>\n",
       "      <td>0.1</td>\n",
       "      <td>A</td>\n",
       "    </tr>\n",
       "    <tr>\n",
       "      <th>17</th>\n",
       "      <td>2010/1</td>\n",
       "      <td>32.132800</td>\n",
       "      <td>-111.010800</td>\n",
       "      <td>201001</td>\n",
       "      <td>2010</td>\n",
       "      <td>1</td>\n",
       "      <td>A</td>\n",
       "      <td>0.5</td>\n",
       "      <td>B</td>\n",
       "    </tr>\n",
       "    <tr>\n",
       "      <th>18</th>\n",
       "      <td>2010/1</td>\n",
       "      <td>31.519167</td>\n",
       "      <td>-111.177500</td>\n",
       "      <td>201001</td>\n",
       "      <td>2010</td>\n",
       "      <td>1</td>\n",
       "      <td>A</td>\n",
       "      <td>329.0</td>\n",
       "      <td>E</td>\n",
       "    </tr>\n",
       "    <tr>\n",
       "      <th>19</th>\n",
       "      <td>2010/1</td>\n",
       "      <td>31.521944</td>\n",
       "      <td>-111.124722</td>\n",
       "      <td>201001</td>\n",
       "      <td>2010</td>\n",
       "      <td>1</td>\n",
       "      <td>A</td>\n",
       "      <td>0.1</td>\n",
       "      <td>A</td>\n",
       "    </tr>\n",
       "  </tbody>\n",
       "</table>\n",
       "</div>"
      ],
      "text/plain": [
       "      Date   latitude   longitude  yearmonth  year  month prediction  \\\n",
       "0   2010/1  33.694400 -113.299700     201001  2010      1          A   \n",
       "1   2010/1  33.302670 -110.450440     201001  2010      1          A   \n",
       "2   2010/1  33.362720 -110.462190     201001  2010      1          A   \n",
       "3   2010/1  33.366030 -110.431000     201001  2010      1          A   \n",
       "4   2010/1  33.370580 -110.435042     201001  2010      1          A   \n",
       "5   2010/1  33.550833 -111.241944     201001  2010      1          A   \n",
       "6   2010/1  33.618400 -112.939100     201001  2010      1          A   \n",
       "7   2010/1  31.985000 -111.708100     201001  2010      1          A   \n",
       "8   2010/1  36.975081 -113.630453     201001  2010      1          A   \n",
       "9   2010/1  36.993789 -113.566256     201001  2010      1          A   \n",
       "10  2010/1  33.163100 -111.800400     201001  2010      1          A   \n",
       "11  2010/1  32.330833 -110.702222     201001  2010      1          A   \n",
       "12  2010/1  31.519444 -111.127500     201001  2010      1          A   \n",
       "13  2010/1  34.089700 -114.342200     201001  2010      1          A   \n",
       "14  2010/1  33.926400 -114.435300     201001  2010      1          A   \n",
       "15  2010/1  34.588500 -114.365750     201001  2010      1          A   \n",
       "16  2010/1  32.819200 -114.488100     201001  2010      1          A   \n",
       "17  2010/1  32.132800 -111.010800     201001  2010      1          A   \n",
       "18  2010/1  31.519167 -111.177500     201001  2010      1          A   \n",
       "19  2010/1  31.521944 -111.124722     201001  2010      1          A   \n",
       "\n",
       "    fire_size fire_size_class  \n",
       "0         0.1               A  \n",
       "1         0.1               A  \n",
       "2         0.1               A  \n",
       "3         1.0               B  \n",
       "4         0.1               A  \n",
       "5         0.1               A  \n",
       "6         0.1               A  \n",
       "7         1.0               B  \n",
       "8         0.1               A  \n",
       "9         0.1               A  \n",
       "10        0.1               A  \n",
       "11       73.0               C  \n",
       "12       38.3               C  \n",
       "13        0.1               A  \n",
       "14        0.2               A  \n",
       "15        0.1               A  \n",
       "16        0.1               A  \n",
       "17        0.5               B  \n",
       "18      329.0               E  \n",
       "19        0.1               A  "
      ]
     },
     "execution_count": 13,
     "metadata": {},
     "output_type": "execute_result"
    }
   ],
   "source": [
    "csv = r\"C:\\Users\\sanja\\Desktop\\Quarter Material\\Fall Quarter\\Big Data\\datasets\\prediction_18_19.csv\" #adding prediction file\n",
    "snow_pred = pd.read_csv(csv)\n",
    "snow_pred.head(20)"
   ]
  },
  {
   "cell_type": "code",
   "execution_count": 14,
   "metadata": {},
   "outputs": [
    {
     "data": {
      "text/html": [
       "<div class=\"item_container\" style=\"height: auto; overflow: hidden; border: 1px solid #cfcfcf; border-radius: 2px; background: #f6fafa; line-height: 1.21429em; padding: 10px;\">\n",
       "                    <div class=\"item_left\" style=\"width: 210px; float: left;\">\n",
       "                       <a href='https://SaJoghfetLym87eW.maps.arcgis.com/home/item.html?id=a4574386c4b34220b212d633b33d0d32' target='_blank'>\n",
       "                        <img src='http://static.arcgis.com/images/desktopapp.png' class=\"itemThumbnail\">\n",
       "                       </a>\n",
       "                    </div>\n",
       "\n",
       "                    <div class=\"item_right\"     style=\"float: none; width: auto; overflow: hidden;\">\n",
       "                        <a href='https://SaJoghfetLym87eW.maps.arcgis.com/home/item.html?id=a4574386c4b34220b212d633b33d0d32' target='_blank'><b>prediction_2010_2015</b>\n",
       "                        </a>\n",
       "                        <br/><img src='https://SaJoghfetLym87eW.maps.arcgis.com/home/js/jsapi/esri/css/images/item_type_icons/layers16.png' style=\"vertical-align:middle;\">CSV by Sanjana089\n",
       "                        <br/>Last Modified: December 01, 2022\n",
       "                        <br/>0 comments, 0 views\n",
       "                    </div>\n",
       "                </div>\n",
       "                "
      ],
      "text/plain": [
       "<Item title:\"prediction_2010_2015\" type:CSV owner:Sanjana089>"
      ]
     },
     "execution_count": 14,
     "metadata": {},
     "output_type": "execute_result"
    }
   ],
   "source": [
    "item_pred_csv = {'title': 'prediction_18_19'}\n",
    "csv_pred_item = gis.content.add(item_properties = item_pred_csv, data = csv)\n",
    "csv_pred_item"
   ]
  },
  {
   "cell_type": "code",
   "execution_count": 15,
   "metadata": {},
   "outputs": [
    {
     "data": {
      "text/html": [
       "<div class=\"item_container\" style=\"height: auto; overflow: hidden; border: 1px solid #cfcfcf; border-radius: 2px; background: #f6fafa; line-height: 1.21429em; padding: 10px;\">\n",
       "                    <div class=\"item_left\" style=\"width: 210px; float: left;\">\n",
       "                       <a href='https://SaJoghfetLym87eW.maps.arcgis.com/home/item.html?id=b396a7d3de9d423898b15b590b97b71e' target='_blank'>\n",
       "                        <img src='http://static.arcgis.com/images/desktopapp.png' class=\"itemThumbnail\">\n",
       "                       </a>\n",
       "                    </div>\n",
       "\n",
       "                    <div class=\"item_right\"     style=\"float: none; width: auto; overflow: hidden;\">\n",
       "                        <a href='https://SaJoghfetLym87eW.maps.arcgis.com/home/item.html?id=b396a7d3de9d423898b15b590b97b71e' target='_blank'><b>prediction_2010_2015</b>\n",
       "                        </a>\n",
       "                        <br/><img src='https://SaJoghfetLym87eW.maps.arcgis.com/home/js/jsapi/esri/css/images/item_type_icons/featureshosted16.png' style=\"vertical-align:middle;\">Feature Layer Collection by Sanjana089\n",
       "                        <br/>Last Modified: December 01, 2022\n",
       "                        <br/>0 comments, 0 views\n",
       "                    </div>\n",
       "                </div>\n",
       "                "
      ],
      "text/plain": [
       "<Item title:\"prediction_2010_2015\" type:Feature Layer Collection owner:Sanjana089>"
      ]
     },
     "execution_count": 15,
     "metadata": {},
     "output_type": "execute_result"
    }
   ],
   "source": [
    "snow_pred_item = csv_item.publish()\n",
    "snow_pred_item"
   ]
  },
  {
   "cell_type": "code",
   "execution_count": 16,
   "metadata": {},
   "outputs": [
    {
     "data": {
      "text/html": [
       "<div class=\"item_container\" style=\"height: auto; overflow: hidden; border: 1px solid #cfcfcf; border-radius: 2px; background: #f6fafa; line-height: 1.21429em; padding: 10px;\">\n",
       "                    <div class=\"item_left\" style=\"width: 210px; float: left;\">\n",
       "                       <a href='https://SaJoghfetLym87eW.maps.arcgis.com/home/item.html?id=b396a7d3de9d423898b15b590b97b71e' target='_blank'>\n",
       "                        <img src='http://static.arcgis.com/images/desktopapp.png' class=\"itemThumbnail\">\n",
       "                       </a>\n",
       "                    </div>\n",
       "\n",
       "                    <div class=\"item_right\"     style=\"float: none; width: auto; overflow: hidden;\">\n",
       "                        <a href='https://SaJoghfetLym87eW.maps.arcgis.com/home/item.html?id=b396a7d3de9d423898b15b590b97b71e' target='_blank'><b>prediction_2010_2015</b>\n",
       "                        </a>\n",
       "                        <br/><img src='https://SaJoghfetLym87eW.maps.arcgis.com/home/js/jsapi/esri/css/images/item_type_icons/featureshosted16.png' style=\"vertical-align:middle;\">Feature Layer Collection by Sanjana089\n",
       "                        <br/>Last Modified: December 01, 2022\n",
       "                        <br/>0 comments, 0 views\n",
       "                    </div>\n",
       "                </div>\n",
       "                "
      ],
      "text/plain": [
       "<Item title:\"prediction_2010_2015\" type:Feature Layer Collection owner:Sanjana089>"
      ]
     },
     "execution_count": 16,
     "metadata": {},
     "output_type": "execute_result"
    }
   ],
   "source": [
    "snow_pred_layer = gis.content.search(query = \"prediction\", item_type = \"feature layer\")[0] \n",
    "snow_pred_layer"
   ]
  },
  {
   "cell_type": "code",
   "execution_count": null,
   "metadata": {},
   "outputs": [],
   "source": []
  }
 ],
 "metadata": {
  "kernelspec": {
   "display_name": "Python 3",
   "language": "python",
   "name": "python3"
  },
  "language_info": {
   "codemirror_mode": {
    "name": "ipython",
    "version": 3
   },
   "file_extension": ".py",
   "mimetype": "text/x-python",
   "name": "python",
   "nbconvert_exporter": "python",
   "pygments_lexer": "ipython3",
   "version": "3.7.4"
  }
 },
 "nbformat": 4,
 "nbformat_minor": 4
}
